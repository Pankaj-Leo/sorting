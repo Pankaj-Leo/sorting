{
 "cells": [
  {
   "cell_type": "code",
   "execution_count": null,
   "id": "initial_id",
   "metadata": {
    "collapsed": true
   },
   "outputs": [],
   "source": [
    ""
   ]
  },
  {
   "metadata": {
    "ExecuteTime": {
     "end_time": "2024-11-12T01:19:42.661025Z",
     "start_time": "2024-11-12T01:19:42.658096Z"
    }
   },
   "cell_type": "code",
   "source": [
    "def bubble_sort(arr):\n",
    "    n = len(arr)\n",
    "    made_a_swap = True\n",
    "    while made_a_swap: \n",
    "        made_a_swap = False\n",
    "        # Traverse through all array elements\n",
    "        for i in range(n):\n",
    "            # Last i elements are already in place\n",
    "            for j in range(0, n-i-1):\n",
    "                # Swap if the element found is greater than the next element\n",
    "                if arr[j] > arr[j+1]:\n",
    "                    arr[j], arr[j+1] = arr[j+1], arr[j]\n",
    "                    made_a_swap = True\n",
    "    return arr\n",
    "    \n",
    "    \n",
    "# Example usage\n",
    "if __name__ == \"__main__\":\n",
    "    arr = [64, 34, 25, 12, 22, 11, 90]\n",
    "    print(\"Unsorted array:\", arr)\n",
    "    sorted_arr = bubble_sort(arr)\n",
    "    print(\"Sorted array:\", sorted_arr)"
   ],
   "id": "54049a3f909fb359",
   "outputs": [
    {
     "ename": "IndentationError",
     "evalue": "unexpected indent (1616854463.py, line 7)",
     "output_type": "error",
     "traceback": [
      "\u001B[0;36m  Cell \u001B[0;32mIn[1], line 7\u001B[0;36m\u001B[0m\n\u001B[0;31m    for i in range(n):\u001B[0m\n\u001B[0m    ^\u001B[0m\n\u001B[0;31mIndentationError\u001B[0m\u001B[0;31m:\u001B[0m unexpected indent\n"
     ]
    }
   ],
   "execution_count": 1
  }
 ],
 "metadata": {
  "kernelspec": {
   "display_name": "Python 3",
   "language": "python",
   "name": "python3"
  },
  "language_info": {
   "codemirror_mode": {
    "name": "ipython",
    "version": 2
   },
   "file_extension": ".py",
   "mimetype": "text/x-python",
   "name": "python",
   "nbconvert_exporter": "python",
   "pygments_lexer": "ipython2",
   "version": "2.7.6"
  }
 },
 "nbformat": 4,
 "nbformat_minor": 5
}
